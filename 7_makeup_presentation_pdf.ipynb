{
 "cells": [
  {
   "cell_type": "code",
   "execution_count": 2,
   "id": "be08d51d",
   "metadata": {},
   "outputs": [
    {
     "name": "stdout",
     "output_type": "stream",
     "text": [
      "Collecting python-pptx\n",
      "  Downloading python_pptx-1.0.2-py3-none-any.whl.metadata (2.5 kB)\n",
      "Requirement already satisfied: Pillow>=3.3.2 in c:\\users\\38067\\anaconda3\\lib\\site-packages (from python-pptx) (10.0.1)\n",
      "Collecting XlsxWriter>=0.5.7 (from python-pptx)\n",
      "  Downloading XlsxWriter-3.2.3-py3-none-any.whl.metadata (2.7 kB)\n",
      "Requirement already satisfied: lxml>=3.1.0 in c:\\users\\38067\\anaconda3\\lib\\site-packages (from python-pptx) (4.9.3)\n",
      "Collecting typing-extensions>=4.9.0 (from python-pptx)\n",
      "  Downloading typing_extensions-4.13.2-py3-none-any.whl.metadata (3.0 kB)\n",
      "Downloading python_pptx-1.0.2-py3-none-any.whl (472 kB)\n",
      "Downloading typing_extensions-4.13.2-py3-none-any.whl (45 kB)\n",
      "Downloading XlsxWriter-3.2.3-py3-none-any.whl (169 kB)\n",
      "Installing collected packages: XlsxWriter, typing-extensions, python-pptx\n",
      "  Attempting uninstall: typing-extensions\n",
      "    Found existing installation: typing_extensions 4.7.1\n",
      "    Uninstalling typing_extensions-4.7.1:\n",
      "      Successfully uninstalled typing_extensions-4.7.1\n",
      "Successfully installed XlsxWriter-3.2.3 python-pptx-1.0.2 typing-extensions-4.13.2\n"
     ]
    }
   ],
   "source": [
    "!pip install python-pptx\n"
   ]
  },
  {
   "cell_type": "code",
   "execution_count": 11,
   "id": "9e578bfc",
   "metadata": {},
   "outputs": [
    {
     "name": "stdout",
     "output_type": "stream",
     "text": [
      "1.0.2\n"
     ]
    }
   ],
   "source": [
    "import pptx\n",
    "print(pptx.__version__)\n"
   ]
  },
  {
   "cell_type": "code",
   "execution_count": 15,
   "id": "92cab2fb",
   "metadata": {},
   "outputs": [
    {
     "name": "stdout",
     "output_type": "stream",
     "text": [
      "['10_Product_Type.png', '11_Category.png', '12_Product_Types_and_Categories_Sankey.png', '13_Brands_Categories_Product_Type_Ratings_Treemap.png', '14_All_brands.png', '15_16_Top_Brands_in_Product.png', '17_Top_Brands_analysis.png', '18_Top_Brands_Price_statistics.png', '19_Top_Brands_Price_Categor.png', '1_Number_of_unique_values.png', '20_Top_Brands_Across_Category_Product_Heatmap.png', '2_Number_brands_products_category_product_type.png', '3_4_5_6_Price.png', '7_8_9_Rating.png']\n"
     ]
    }
   ],
   "source": [
    "import os\n",
    "print(os.listdir(\"makeup_visualizations_png\"))\n"
   ]
  },
  {
   "cell_type": "code",
   "execution_count": 18,
   "id": "a752e97d",
   "metadata": {},
   "outputs": [
    {
     "name": "stdout",
     "output_type": "stream",
     "text": [
      "Found existing installation: python-pptx 1.0.2\n",
      "Uninstalling python-pptx-1.0.2:\n",
      "  Successfully uninstalled python-pptx-1.0.2\n",
      "Collecting python-pptx\n",
      "  Using cached python_pptx-1.0.2-py3-none-any.whl.metadata (2.5 kB)\n",
      "Requirement already satisfied: Pillow>=3.3.2 in c:\\users\\38067\\anaconda3\\lib\\site-packages (from python-pptx) (10.0.1)\n",
      "Requirement already satisfied: XlsxWriter>=0.5.7 in c:\\users\\38067\\anaconda3\\lib\\site-packages (from python-pptx) (3.2.3)\n",
      "Requirement already satisfied: lxml>=3.1.0 in c:\\users\\38067\\anaconda3\\lib\\site-packages (from python-pptx) (4.9.3)\n",
      "Requirement already satisfied: typing-extensions>=4.9.0 in c:\\users\\38067\\anaconda3\\lib\\site-packages (from python-pptx) (4.13.2)\n",
      "Using cached python_pptx-1.0.2-py3-none-any.whl (472 kB)\n",
      "Installing collected packages: python-pptx\n",
      "Successfully installed python-pptx-1.0.2\n"
     ]
    }
   ],
   "source": [
    "!pip uninstall python-pptx -y\n",
    "!pip install python-pptx\n"
   ]
  },
  {
   "cell_type": "code",
   "execution_count": 19,
   "id": "c88578eb",
   "metadata": {},
   "outputs": [
    {
     "name": "stdout",
     "output_type": "stream",
     "text": [
      "1.0.2\n"
     ]
    }
   ],
   "source": [
    "import pptx\n",
    "print(pptx.__version__)\n"
   ]
  },
  {
   "cell_type": "code",
   "execution_count": 21,
   "id": "9cf5f5ec",
   "metadata": {},
   "outputs": [
    {
     "name": "stdout",
     "output_type": "stream",
     "text": [
      "utf-8\n"
     ]
    }
   ],
   "source": [
    "import sys\n",
    "print(sys.getdefaultencoding())  # Показує поточне кодування\n"
   ]
  },
  {
   "cell_type": "code",
   "execution_count": 28,
   "id": "518afc96",
   "metadata": {},
   "outputs": [
    {
     "name": "stdout",
     "output_type": "stream",
     "text": [
      "Collecting comtypes\n",
      "  Downloading comtypes-1.4.10-py3-none-any.whl.metadata (7.2 kB)\n",
      "Downloading comtypes-1.4.10-py3-none-any.whl (241 kB)\n",
      "Installing collected packages: comtypes\n",
      "Successfully installed comtypes-1.4.10\n"
     ]
    }
   ],
   "source": [
    "!pip install comtypes\n"
   ]
  },
  {
   "cell_type": "code",
   "execution_count": 7,
   "id": "ad0f1944",
   "metadata": {},
   "outputs": [
    {
     "name": "stdout",
     "output_type": "stream",
     "text": [
      "Презентація збережена як Makeup_analysis_presentation.pptx\n",
      "Презентація збережена як Makeup_analysis_presentation.pdf\n"
     ]
    }
   ],
   "source": [
    "from pptx import Presentation\n",
    "from pptx.util import Inches, Pt\n",
    "from pptx.enum.text import PP_ALIGN\n",
    "from pptx.enum.text import MSO_AUTO_SIZE\n",
    "import os\n",
    "import comtypes.client\n",
    "\n",
    "# Шлях до папки з графіками\n",
    "img_folder = \"makeup_visualizations_png\"\n",
    "\n",
    "# Створення презентації\n",
    "prs = Presentation()\n",
    "prs.slide_width = Inches(16)\n",
    "prs.slide_height = Inches(9)\n",
    "\n",
    "# Список слайдів\n",
    "slides_info = [\n",
    "    {\"filename\": \"1_Number_of_unique_values.png\", \"title\": \"Кількість найменувань продуктів, брендів, категорій та типів\",\n",
    "     \"description\": \"• Тип графіка: barh (горизонтальний стовпчастий графік).\\n\\n• Показано: Кількість унікальних значень для кожної категорії даних.\"},\n",
    "\n",
    "    {\"filename\": \"2_Number_brands_products_category_product_type.png\", \"title\": \"Кількість брендів і продуктів за категоріями\",\n",
    "     \"description\": \"• Тип графіка: barh (горизонтальні стовпці).\\n\\n• Показано:\\n\\n  – Brand — Кількість унікальних брендів (зліва).\\n\\n  – Name — Кількість унікальних продуктів (справа) для кожної комбінації категорії та типу продукту.\"},\n",
    "\n",
    "    {\"filename\": \"3_4_5_6_Price.png\", \"title\": \"Аналіз цін\",\n",
    "     \"description\": \"• Типи графіків: bar, pie, boxplot, scatter.\\n\\n• Показано:\\n\\n  – Стовпчастий графік: кількість товарів за ціновими категоріями.\\n\\n  – Кругова діаграма: частка кожної цінової категорії у відсотках.\\n\\n  – Боксплот: Мінімальна, максимальна, медіанна ціна, квартилі.\\n\\n  – Точковий графік: залежність між ціною та рейтингом.\"},\n",
    "\n",
    "    {\"filename\": \"7_8_9_Rating.png\", \"title\": \"Рейтинги товарів\",\n",
    "     \"description\": \"• Типи графіків: kdeplot (оцінка густини), pie, bar.\\n\\n• Показано:\\n\\n  – Розподіл значень рейтингу.\\n\\n  – Частка товарів із рейтингом та без нього.\\n\\n  – Кількість типів, категорій і брендів із рейтингами.\"},\n",
    "\n",
    "    {\"filename\": \"10_Product_Type.png\", \"title\": \"Тип продукту: аналіз\",\n",
    "     \"description\": \"• Типи графіків: bar (стовпці), line (лінії).\\n\\n• Показано:\\n\\n  – Кількість продуктів для кожного типу.\\n\\n  – Середній рейтинг і ціна по типах продукту.\"},\n",
    "\n",
    "    {\"filename\": \"11_Category.png\", \"title\": \"Категорії продуктів\",\n",
    "     \"description\": \"• Типи графіків: bar (стовпці), line (лінії).\\n\\n• Показано:\\n\\n  – Кількість продуктів.\\n\\n  – Середній рейтинг та ціна по категоріях.\"},\n",
    "\n",
    "    {\"filename\": \"12_Product_Types_and_Categories_Sankey.png\", \"title\": \"Зв'язок між типами продуктів та їхніми категоріями\",\n",
    "     \"description\": \"• Тип графіка: Sankey Diagram (санкей-діаграма).\\n\\n• Показано:\\n\\n  – Взаємозв'язок між типами продуктів та їх категоріями.\\n\\n  – Розподіл продуктів між типами та категоріями через ширину ліній.\"},\n",
    "\n",
    "    {\"filename\": \"13_Brands_Categories_Product_Type_Ratings_Treemap.png\", \"title\": \"Бренди за категоріями та видами продукції\",\n",
    "     \"description\": \"• Тип графіка: Treemap (деревовидна карта).\\n\\n• Показано:\\n\\n  – Ієрархія брендів у категоріях.\\n\\n  – Рейтинг позначений кольоровою шкалою.\"},\n",
    "\n",
    "    {\"filename\": \"14_All_brands.png\", \"title\": \"Всі бренди: огляд\",\n",
    "     \"description\": \"• Типи графіків: bar, line.\\n\\n• Показано:\\n\\n  – Кількість продуктів для кожного бренду.\\n\\n  – Середній рейтинг та ціна.\"},\n",
    "\n",
    "    {\"filename\": \"15_16_Top_Brands_in_Product.png\", \"title\": \"Топ-20 брендів\",\n",
    "     \"description\": \"• Типи графіків: donut chart, pie chart.\\n\\n• Показано:\\n\\n  – Частка продуктів, що пропонуються топ-20 брендами.\\n\\n  – Кількість категорій, типів продуктів та їх охоплення.\"},\n",
    "\n",
    "    {\"filename\": \"17_Top_Brands_analysis.png\", \"title\": \"Аналіз топ-20 брендів\",\n",
    "     \"description\": \"• Типи графіків: bar, line.\\n\\n• Показано:\\n\\n  – Кількість товарів, рейтинг та середня ціна по брендах.\"},\n",
    "\n",
    "    {\"filename\": \"18_Top_Brands_Price_statistics.png\", \"title\": \"Ціни топ-брендів\",\n",
    "     \"description\": \"• Тип графіка: boxplot.\\n\\n• Показано:\\n\\n  – Розподіл цін для кожного бренду, включаючи мінімум, максимум, медіану.\"},\n",
    "\n",
    "    {\"filename\": \"19_Top_Brands_Price_Categor.png\", \"title\": \"Розподіл продуктів за цінами\",\n",
    "     \"description\": \"• Тип графіка: stacked bar.\\n\\n• Показано:\\n\\n  – Як бренди представлені у різних цінових категоріях.\"},\n",
    "\n",
    "    {\"filename\": \"20_Top_Brands_Across_Category_Product_Heatmap.png\",\n",
    "     \"title\": \"Розподіл продуктів за категоріями-типами серед топ-20 брендів\",\n",
    "     \"description\": \"• Тип графіка: heatmap (Теплова карта).\\n\\n• Показано:\\n\\n  – Розподіл кількості продуктів для категорій-типів продуктів (Category-product types) серед топ-20 брендів.\\n\\n  – Цей графік дозволяє легко оцінити, які бренди найбільш активно працюють із різними категоріями-типами продуктів, а також взаємозв’язок між ними.\"}\n",
    "]\n",
    "\n",
    "# Додавання слайдів\n",
    "for info in slides_info:\n",
    "    slide = prs.slides.add_slide(prs.slide_layouts[6])\n",
    "\n",
    "    # Заголовок\n",
    "    title_box = slide.shapes.add_textbox(Inches(0.5), Inches(0.2), Inches(15), Inches(1))\n",
    "    title_frame = title_box.text_frame\n",
    "    title_frame.text = info[\"title\"]\n",
    "    title_frame.paragraphs[0].font.size = Pt(28)\n",
    "    title_frame.paragraphs[0].alignment = PP_ALIGN.LEFT\n",
    "\n",
    "    # Додавання зображення\n",
    "    img_path = os.path.join(img_folder, info[\"filename\"])\n",
    "    if os.path.exists(img_path):\n",
    "        slide.shapes.add_picture(img_path, Inches(0.5), Inches(1.2), width=Inches(10))\n",
    "    else:\n",
    "        print(f\"Файл не знайдено: {img_path}\")\n",
    "\n",
    "    # Опис\n",
    "    desc_box = slide.shapes.add_textbox(Inches(11), Inches(1.2), Inches(4.5), Inches(6))\n",
    "    desc_frame = desc_box.text_frame\n",
    "    desc_frame.clear()  # Очищуємо дефолтний параграф\n",
    "    desc_frame.word_wrap = True\n",
    "    desc_frame.auto_size = MSO_AUTO_SIZE.TEXT_TO_FIT_SHAPE\n",
    "\n",
    "    for line in info[\"description\"].split(\"\\n\\n\"):\n",
    "        p = desc_frame.add_paragraph()\n",
    "        p.text = line.strip()\n",
    "        p.font.size = Pt(18)\n",
    "\n",
    "# Збереження презентації\n",
    "pptx_filename = \"Makeup_analysis_presentation.pptx\"\n",
    "prs.save(pptx_filename)\n",
    "print(f\"Презентація збережена як {pptx_filename}\")\n",
    "\n",
    "# Конвертація в PDF\n",
    "def pptx_to_pdf(input_file, output_file):\n",
    "    powerpoint = comtypes.client.CreateObject(\"PowerPoint.Application\")\n",
    "    powerpoint.Visible = 1\n",
    "    deck = powerpoint.Presentations.Open(os.path.abspath(input_file))\n",
    "    deck.SaveAs(os.path.abspath(output_file), 32)\n",
    "    deck.Close()\n",
    "    powerpoint.Quit()\n",
    "\n",
    "pdf_filename = \"Makeup_analysis_presentation.pdf\"\n",
    "pptx_to_pdf(pptx_filename, pdf_filename)\n",
    "print(f\"Презентація збережена як {pdf_filename}\")\n"
   ]
  },
  {
   "cell_type": "code",
   "execution_count": null,
   "id": "3e66206a",
   "metadata": {},
   "outputs": [],
   "source": []
  }
 ],
 "metadata": {
  "kernelspec": {
   "display_name": "Python 3 (ipykernel)",
   "language": "python",
   "name": "python3"
  },
  "language_info": {
   "codemirror_mode": {
    "name": "ipython",
    "version": 3
   },
   "file_extension": ".py",
   "mimetype": "text/x-python",
   "name": "python",
   "nbconvert_exporter": "python",
   "pygments_lexer": "ipython3",
   "version": "3.11.5"
  }
 },
 "nbformat": 4,
 "nbformat_minor": 5
}
