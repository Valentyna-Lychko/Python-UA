{
 "cells": [
  {
   "cell_type": "code",
   "execution_count": 1,
   "id": "0498e6ea",
   "metadata": {},
   "outputs": [
    {
     "name": "stdout",
     "output_type": "stream",
     "text": [
      "Дані успішно збережено в 'makeup_all_products.json'\n"
     ]
    }
   ],
   "source": [
    "#Код для завантаження та збереження всіх даних\n",
    "\n",
    "import requests\n",
    "import json\n",
    "\n",
    "# URL до API (завантаження всіх даних без фільтрації)\n",
    "url = \"https://makeup-api.herokuapp.com/api/v1/products.json\"\n",
    "\n",
    "try:\n",
    "    # Завантаження даних із API\n",
    "    response = requests.get(url)\n",
    "    response.raise_for_status()  # Перевірка на помилки\n",
    "\n",
    "    # Перетворення даних у формат JSON\n",
    "    data = response.json()\n",
    "\n",
    "    # Збереження даних у файл з новою назвою\n",
    "    with open(\"makeup_all_products.json\", \"w\", encoding=\"utf-8\") as file:\n",
    "        json.dump(data, file, ensure_ascii=False, indent=4)\n",
    "    \n",
    "    print(\"Дані успішно збережено в 'makeup_all_products.json'\")\n",
    "except requests.exceptions.RequestException as e:\n",
    "    print(f\"Помилка під час завантаження даних: {e}\")\n"
   ]
  },
  {
   "cell_type": "code",
   "execution_count": null,
   "id": "bc6dd54b",
   "metadata": {},
   "outputs": [],
   "source": []
  }
 ],
 "metadata": {
  "kernelspec": {
   "display_name": "Python 3 (ipykernel)",
   "language": "python",
   "name": "python3"
  },
  "language_info": {
   "codemirror_mode": {
    "name": "ipython",
    "version": 3
   },
   "file_extension": ".py",
   "mimetype": "text/x-python",
   "name": "python",
   "nbconvert_exporter": "python",
   "pygments_lexer": "ipython3",
   "version": "3.11.5"
  }
 },
 "nbformat": 4,
 "nbformat_minor": 5
}
